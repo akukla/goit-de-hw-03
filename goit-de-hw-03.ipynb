{
 "cells": [
  {
   "cell_type": "code",
   "id": "initial_id",
   "metadata": {
    "jupyter": {
     "is_executing": true
    }
   },
   "source": [
    "import warnings\n",
    "warnings.filterwarnings('ignore')\n",
    "from pyspark.sql.functions import col\n",
    "\n",
    "from pyspark.sql import SparkSession\n",
    "\n",
    "spark = SparkSession.builder.appName(\"MyGoitSparkSandbox\").getOrCreate()"
   ],
   "outputs": [],
   "execution_count": null
  },
  {
   "metadata": {},
   "cell_type": "markdown",
   "source": "## 1. Завантажте та прочитайте кожен CSV-файл як окремий DataFrame.",
   "id": "a046647ff1b734d7"
  },
  {
   "cell_type": "code",
   "id": "f8b4ad768628929e",
   "metadata": {
    "ExecuteTime": {
     "end_time": "2024-11-15T16:57:16.209901175Z",
     "start_time": "2024-11-15T16:56:11.053683Z"
    }
   },
   "source": [
    "# Завантажуємо датасет\n",
    "products_df = spark.read.csv('./data/products.csv', header=True)\n",
    "\n",
    "# Виводимо перші 10 записів\n",
    "products_df.show(10)"
   ],
   "outputs": [
    {
     "name": "stdout",
     "output_type": "stream",
     "text": [
      "+----------+------------+-----------+-----+\n",
      "|product_id|product_name|   category|price|\n",
      "+----------+------------+-----------+-----+\n",
      "|         1|   Product_1|     Beauty|  8.3|\n",
      "|         2|   Product_2|       Home|  8.3|\n",
      "|         3|   Product_3|Electronics|  9.2|\n",
      "|         4|   Product_4|Electronics|  2.6|\n",
      "|         5|   Product_5|Electronics|  9.4|\n",
      "|         6|   Product_6|     Sports|  8.7|\n",
      "|         7|   Product_7|     Beauty|  8.2|\n",
      "|         8|   Product_8|     Sports|  1.0|\n",
      "|         9|   Product_9|     Beauty|  6.0|\n",
      "|        10|  Product_10|     Sports|  5.4|\n",
      "+----------+------------+-----------+-----+\n",
      "only showing top 10 rows\n",
      "\n"
     ]
    }
   ],
   "execution_count": 3
  },
  {
   "cell_type": "code",
   "id": "3fa6fdb4dee45a6e",
   "metadata": {
    "ExecuteTime": {
     "end_time": "2024-11-15T16:57:16.210761541Z",
     "start_time": "2024-11-15T16:56:12.454129Z"
    }
   },
   "source": [
    "# Завантажуємо датасет\n",
    "purchases_df = spark.read.csv('./data/purchases.csv', header=True)\n",
    "\n",
    "# Виводимо перші 10 записів\n",
    "purchases_df.show(10)"
   ],
   "outputs": [
    {
     "name": "stdout",
     "output_type": "stream",
     "text": [
      "+-----------+-------+----------+----------+--------+\n",
      "|purchase_id|user_id|product_id|      date|quantity|\n",
      "+-----------+-------+----------+----------+--------+\n",
      "|          1|     52|         9|2022-01-01|       1|\n",
      "|          2|     93|        37|2022-01-02|       8|\n",
      "|          3|     15|        33|2022-01-03|       1|\n",
      "|          4|     72|        42|2022-01-04|       9|\n",
      "|          5|     61|        44|2022-01-05|       6|\n",
      "|          6|     21|        24|2022-01-06|       7|\n",
      "|          7|     83|        15|2022-01-07|       7|\n",
      "|          8|     87|        32|2022-01-08|       3|\n",
      "|          9|     75|        32|2022-01-09|       2|\n",
      "|         10|     75|        24|2022-01-10|       9|\n",
      "+-----------+-------+----------+----------+--------+\n",
      "only showing top 10 rows\n",
      "\n"
     ]
    }
   ],
   "execution_count": 4
  },
  {
   "cell_type": "code",
   "id": "421382a43798590d",
   "metadata": {
    "ExecuteTime": {
     "end_time": "2024-11-15T16:57:16.211278865Z",
     "start_time": "2024-11-15T16:56:12.585927Z"
    }
   },
   "source": [
    "# Завантажуємо датасет\n",
    "users_df = spark.read.csv('./data/users.csv', header=True)\n",
    "\n",
    "# Виводимо перші 10 записів\n",
    "users_df.show(10)"
   ],
   "outputs": [
    {
     "name": "stdout",
     "output_type": "stream",
     "text": [
      "+-------+-------+---+------------------+\n",
      "|user_id|   name|age|             email|\n",
      "+-------+-------+---+------------------+\n",
      "|      1| User_1| 45| user1@example.com|\n",
      "|      2| User_2| 48| user2@example.com|\n",
      "|      3| User_3| 36| user3@example.com|\n",
      "|      4| User_4| 46| user4@example.com|\n",
      "|      5| User_5| 29| user5@example.com|\n",
      "|      6| User_6| 39| user6@example.com|\n",
      "|      7| User_7| 24| user7@example.com|\n",
      "|      8| User_8| 44| user8@example.com|\n",
      "|      9| User_9| 27| user9@example.com|\n",
      "|     10|User_10| 43|user10@example.com|\n",
      "+-------+-------+---+------------------+\n",
      "only showing top 10 rows\n",
      "\n"
     ]
    }
   ],
   "execution_count": 5
  },
  {
   "metadata": {},
   "cell_type": "markdown",
   "source": "## 2. Очистіть дані, видаляючи будь-які рядки з пропущеними значеннями.\n",
   "id": "c16a93ea723af96e"
  },
  {
   "cell_type": "code",
   "id": "e89ebeaa77300770",
   "metadata": {
    "ExecuteTime": {
     "end_time": "2024-11-15T16:57:16.211993208Z",
     "start_time": "2024-11-15T16:56:12.698993Z"
    }
   },
   "source": [
    "# Видаляємо рядки з пропущеними значеннями\n",
    "products_df = products_df.dropna()\n",
    "purchases_df = purchases_df.dropna()\n",
    "users_df = users_df.dropna()\n",
    "\n",
    "# Виводимо перші 10 записів після очищення\n",
    "products_df.show(10)\n",
    "purchases_df.show(10)\n",
    "users_df.show(10)"
   ],
   "outputs": [
    {
     "name": "stdout",
     "output_type": "stream",
     "text": [
      "+----------+------------+-----------+-----+\n",
      "|product_id|product_name|   category|price|\n",
      "+----------+------------+-----------+-----+\n",
      "|         1|   Product_1|     Beauty|  8.3|\n",
      "|         2|   Product_2|       Home|  8.3|\n",
      "|         3|   Product_3|Electronics|  9.2|\n",
      "|         4|   Product_4|Electronics|  2.6|\n",
      "|         5|   Product_5|Electronics|  9.4|\n",
      "|         6|   Product_6|     Sports|  8.7|\n",
      "|         7|   Product_7|     Beauty|  8.2|\n",
      "|         8|   Product_8|     Sports|  1.0|\n",
      "|         9|   Product_9|     Beauty|  6.0|\n",
      "|        10|  Product_10|     Sports|  5.4|\n",
      "+----------+------------+-----------+-----+\n",
      "only showing top 10 rows\n",
      "\n",
      "+-----------+-------+----------+----------+--------+\n",
      "|purchase_id|user_id|product_id|      date|quantity|\n",
      "+-----------+-------+----------+----------+--------+\n",
      "|          1|     52|         9|2022-01-01|       1|\n",
      "|          2|     93|        37|2022-01-02|       8|\n",
      "|          3|     15|        33|2022-01-03|       1|\n",
      "|          4|     72|        42|2022-01-04|       9|\n",
      "|          5|     61|        44|2022-01-05|       6|\n",
      "|          6|     21|        24|2022-01-06|       7|\n",
      "|          7|     83|        15|2022-01-07|       7|\n",
      "|          8|     87|        32|2022-01-08|       3|\n",
      "|          9|     75|        32|2022-01-09|       2|\n",
      "|         10|     75|        24|2022-01-10|       9|\n",
      "+-----------+-------+----------+----------+--------+\n",
      "only showing top 10 rows\n",
      "\n",
      "+-------+-------+---+------------------+\n",
      "|user_id|   name|age|             email|\n",
      "+-------+-------+---+------------------+\n",
      "|      1| User_1| 45| user1@example.com|\n",
      "|      2| User_2| 48| user2@example.com|\n",
      "|      3| User_3| 36| user3@example.com|\n",
      "|      4| User_4| 46| user4@example.com|\n",
      "|      5| User_5| 29| user5@example.com|\n",
      "|      6| User_6| 39| user6@example.com|\n",
      "|      7| User_7| 24| user7@example.com|\n",
      "|      8| User_8| 44| user8@example.com|\n",
      "|      9| User_9| 27| user9@example.com|\n",
      "|     10|User_10| 43|user10@example.com|\n",
      "+-------+-------+---+------------------+\n",
      "only showing top 10 rows\n",
      "\n"
     ]
    }
   ],
   "execution_count": 6
  },
  {
   "metadata": {},
   "cell_type": "markdown",
   "source": "## 3. Визначте загальну суму покупок за кожною категорією продуктів.",
   "id": "a820f6c673d6e5f5"
  },
  {
   "cell_type": "code",
   "id": "91ae84218932be6d",
   "metadata": {
    "ExecuteTime": {
     "end_time": "2024-11-15T16:57:16.212512005Z",
     "start_time": "2024-11-15T16:56:12.830114Z"
    }
   },
   "source": [
    "joined_df = purchases_df.join(products_df, purchases_df.product_id == products_df.product_id)\n",
    "\n",
    "grouped3 = joined_df.select('category', 'price', 'quantity').withColumn(\"purchases_sum\", col(\"price\") * (col(\"quantity\")))\n",
    "\n",
    "grouped3.groupBy('category').sum(\"purchases_sum\").show()\n"
   ],
   "outputs": [
    {
     "name": "stdout",
     "output_type": "stream",
     "text": [
      "+-----------+------------------+\n",
      "|   category|sum(purchases_sum)|\n",
      "+-----------+------------------+\n",
      "|       Home|1523.4999999999998|\n",
      "|     Sports|1802.4999999999998|\n",
      "|Electronics|1174.7999999999997|\n",
      "|   Clothing|             790.3|\n",
      "|     Beauty| 459.8999999999999|\n",
      "+-----------+------------------+\n",
      "\n"
     ]
    }
   ],
   "execution_count": 7
  },
  {
   "metadata": {},
   "cell_type": "markdown",
   "source": "## 4. Визначте суму покупок за кожною категорією продуктів для вікової категорії від 18 до 25 включно.",
   "id": "96bc3d72a93e4cdb"
  },
  {
   "cell_type": "code",
   "id": "29131c4b092d0760",
   "metadata": {
    "ExecuteTime": {
     "end_time": "2024-11-15T16:57:16.212890899Z",
     "start_time": "2024-11-15T16:56:13.237585Z"
    }
   },
   "source": [
    "joined_df = purchases_df.join(products_df, purchases_df.product_id == products_df.product_id).join(users_df, purchases_df.user_id == users_df.user_id)\n",
    "joined_df = joined_df.where((col('age') >= 18) & (col('age') <= 25))\n",
    "grouped4 = joined_df.select('category', 'price', 'quantity').withColumn(\"purchases_sum\", col(\"price\") * (col(\"quantity\")))\n",
    "\n",
    "grouped4.groupBy('category').sum(\"purchases_sum\").show()"
   ],
   "outputs": [
    {
     "name": "stdout",
     "output_type": "stream",
     "text": [
      "+-----------+------------------+\n",
      "|   category|sum(purchases_sum)|\n",
      "+-----------+------------------+\n",
      "|       Home|             361.1|\n",
      "|     Sports|310.49999999999994|\n",
      "|Electronics|             249.6|\n",
      "|   Clothing|             245.0|\n",
      "|     Beauty|41.400000000000006|\n",
      "+-----------+------------------+\n",
      "\n"
     ]
    }
   ],
   "execution_count": 8
  },
  {
   "metadata": {},
   "cell_type": "markdown",
   "source": "## 5. Визначте частку покупок за кожною категорією товарів від сумарних витрат для вікової категорії від 18 до 25 років.",
   "id": "36289df048b2c897"
  },
  {
   "cell_type": "code",
   "id": "814d8263343ac12a",
   "metadata": {
    "ExecuteTime": {
     "end_time": "2024-11-15T16:57:16.213092843Z",
     "start_time": "2024-11-15T16:56:13.427305Z"
    }
   },
   "source": [
    "from pyspark.sql.functions import col, sum as _sum, round\n",
    "\n",
    "joined_df = purchases_df.join(products_df, purchases_df.product_id == products_df.product_id).join(users_df, purchases_df.user_id == users_df.user_id)\n",
    "\n",
    "filtered_df = joined_df.where((col('age') >= 18) & (col('age') <= 25))\n",
    "\n",
    "category_totals_df = filtered_df.withColumn(\"purchase_amount\", col(\"price\") * col(\"quantity\")).groupBy('category').agg(_sum(\"purchase_amount\").alias(\"total_amount\"))\n",
    "\n",
    "total_amount = category_totals_df.agg(_sum(\"total_amount\").alias(\"overall_total\")).collect()[0][\"overall_total\"]\n",
    "\n",
    "category_share_df = category_totals_df.withColumn(\"share\", round(col(\"total_amount\") / total_amount, 2))\n",
    "\n",
    "category_share_df.select(['category', 'share']).show()\n"
   ],
   "outputs": [
    {
     "name": "stdout",
     "output_type": "stream",
     "text": [
      "+-----------+-----+\n",
      "|   category|share|\n",
      "+-----------+-----+\n",
      "|       Home|  0.3|\n",
      "|     Sports| 0.26|\n",
      "|Electronics| 0.21|\n",
      "|   Clothing|  0.2|\n",
      "|     Beauty| 0.03|\n",
      "+-----------+-----+\n",
      "\n"
     ]
    }
   ],
   "execution_count": 9
  },
  {
   "metadata": {},
   "cell_type": "markdown",
   "source": "## 6. Виберіть 3 категорії продуктів з найвищим відсотком витрат споживачами віком від 18 до 25 років.",
   "id": "e207ec5809b271b0"
  },
  {
   "cell_type": "code",
   "id": "213ac930c44411ed",
   "metadata": {
    "ExecuteTime": {
     "end_time": "2024-11-15T16:57:16.213682266Z",
     "start_time": "2024-11-15T16:56:13.694015Z"
    }
   },
   "source": [
    "category_share_df.select(['category', 'share']).orderBy(col('share').desc()).limit(3).show()"
   ],
   "outputs": [
    {
     "name": "stdout",
     "output_type": "stream",
     "text": [
      "+-----------+-----+\n",
      "|   category|share|\n",
      "+-----------+-----+\n",
      "|       Home|  0.3|\n",
      "|     Sports| 0.26|\n",
      "|Electronics| 0.21|\n",
      "+-----------+-----+\n",
      "\n"
     ]
    }
   ],
   "execution_count": 10
  }
 ],
 "metadata": {
  "kernelspec": {
   "display_name": "Python 3 (ipykernel)",
   "language": "python",
   "name": "python3"
  },
  "language_info": {
   "codemirror_mode": {
    "name": "ipython",
    "version": 3
   },
   "file_extension": ".py",
   "mimetype": "text/x-python",
   "name": "python",
   "nbconvert_exporter": "python",
   "pygments_lexer": "ipython3",
   "version": "3.11.2"
  }
 },
 "nbformat": 4,
 "nbformat_minor": 5
}
